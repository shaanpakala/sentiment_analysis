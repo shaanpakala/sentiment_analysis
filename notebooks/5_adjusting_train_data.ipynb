{
 "cells": [
  {
   "cell_type": "code",
   "execution_count": 1,
   "id": "ca7e8209",
   "metadata": {},
   "outputs": [],
   "source": [
    "import numpy as np\n",
    "import pandas as pd\n",
    "import matplotlib.pyplot as plt\n",
    "\n",
    "from sklearn.model_selection import train_test_split\n",
    "\n",
    "import time\n",
    "import random"
   ]
  },
  {
   "cell_type": "code",
   "execution_count": 2,
   "id": "e22ebbf5",
   "metadata": {},
   "outputs": [],
   "source": [
    "%run '0_tools.ipynb'"
   ]
  },
  {
   "cell_type": "code",
   "execution_count": 3,
   "id": "3c2b825e",
   "metadata": {},
   "outputs": [],
   "source": [
    "np_df = np.load(f'{train_vect_path}train_vect.npy')"
   ]
  },
  {
   "cell_type": "code",
   "execution_count": 4,
   "id": "fb8fcc99",
   "metadata": {},
   "outputs": [
    {
     "name": "stdout",
     "output_type": "stream",
     "text": [
      "(76034, 30113)\n"
     ]
    }
   ],
   "source": [
    "print(np_df.shape)"
   ]
  },
  {
   "cell_type": "code",
   "execution_count": 5,
   "id": "6e53fcec",
   "metadata": {},
   "outputs": [
    {
     "data": {
      "text/plain": [
       "array([[  1.,  48.,   0., ...,   0.,   0.,   0.],\n",
       "       [  1.,  60.,   0., ...,   0.,   0.,   0.],\n",
       "       [  1.,  89.,   0., ...,   0.,   0.,   0.],\n",
       "       ...,\n",
       "       [  1., 198.,   0., ...,   0.,   0.,   0.],\n",
       "       [  1.,  86.,   0., ...,   0.,   0.,   0.],\n",
       "       [  1., 198.,   0., ...,   0.,   0.,   0.]])"
      ]
     },
     "execution_count": 5,
     "metadata": {},
     "output_type": "execute_result"
    }
   ],
   "source": [
    "np_df"
   ]
  },
  {
   "cell_type": "code",
   "execution_count": 6,
   "id": "141002a5",
   "metadata": {},
   "outputs": [
    {
     "name": "stdout",
     "output_type": "stream",
     "text": [
      "(76034, 30113)\n"
     ]
    }
   ],
   "source": [
    "mask = np_df[:, 1] > 5\n",
    "train_np = np_df[mask]\n",
    "print(train_np.shape)"
   ]
  },
  {
   "cell_type": "code",
   "execution_count": 7,
   "id": "107ebc50",
   "metadata": {},
   "outputs": [
    {
     "name": "stdout",
     "output_type": "stream",
     "text": [
      "(27515, 30113)\n"
     ]
    }
   ],
   "source": [
    "mask = train_np[:, 0] != 1\n",
    "train_np = train_np[mask]\n",
    "print(train_np.shape)"
   ]
  },
  {
   "cell_type": "code",
   "execution_count": 8,
   "id": "aa0a1910",
   "metadata": {
    "scrolled": true
   },
   "outputs": [
    {
     "name": "stdout",
     "output_type": "stream",
     "text": [
      "(48519, 30113)\n"
     ]
    }
   ],
   "source": [
    "mask = np_df[:, 0] == 1\n",
    "pos_np = np_df[mask]\n",
    "pos_len = pos_np.shape[0]\n",
    "\n",
    "print(pos_np.shape)"
   ]
  },
  {
   "cell_type": "code",
   "execution_count": 9,
   "id": "08460b46",
   "metadata": {
    "scrolled": true
   },
   "outputs": [],
   "source": [
    "np.random.shuffle(pos_np)\n",
    "# print(pos_np.shape)"
   ]
  },
  {
   "cell_type": "code",
   "execution_count": 10,
   "id": "29880a4f",
   "metadata": {},
   "outputs": [
    {
     "name": "stdout",
     "output_type": "stream",
     "text": [
      "(27515, 30113) + (48519, 30113) = (45858, 30113)\n"
     ]
    }
   ],
   "source": [
    "end = int(len(train_np)/1.5)\n",
    "new_np = np.concatenate((train_np, pos_np[:end]))"
   ]
  },
  {
   "cell_type": "code",
   "execution_count": 11,
   "id": "74bbf977",
   "metadata": {},
   "outputs": [
    {
     "name": "stdout",
     "output_type": "stream",
     "text": [
      "Saved new numpy.\n"
     ]
    }
   ],
   "source": [
    "np.save(f'{train_vect_path}updated_train_df.npy', new_np)\n",
    "print('Saved new numpy.')"
   ]
  },
  {
   "cell_type": "code",
   "execution_count": 3,
   "id": "52421c6b",
   "metadata": {},
   "outputs": [],
   "source": [
    "graph_train_df = pd.DataFrame(np.load(f'{train_vect_path}updated_train_df.npy'))"
   ]
  },
  {
   "cell_type": "code",
   "execution_count": 4,
   "id": "5e808d67",
   "metadata": {
    "scrolled": false
   },
   "outputs": [
    {
     "data": {
      "text/plain": [
       "Text(0.5, 1.0, 'Distribution of True Ratings for Training Data')"
      ]
     },
     "execution_count": 4,
     "metadata": {},
     "output_type": "execute_result"
    },
    {
     "data": {
      "image/png": "[encoded data removed]",
      "text/plain": [
       "<Figure size 640x480 with 1 Axes>"
      ]
     },
     "metadata": {},
     "output_type": "display_data"
    }
   ],
   "source": [
    "graph_train_df[0].plot.hist()\n",
    "plt.title('Distribution of True Ratings for Training Data')"
   ]
  },
  {
   "cell_type": "code",
   "execution_count": null,
   "id": "135763f1",
   "metadata": {},
   "outputs": [],
   "source": []
  }
 ],
 "metadata": {
  "kernelspec": {
   "display_name": "Python 3 (ipykernel)",
   "language": "python",
   "name": "python3"
  },
  "language_info": {
   "codemirror_mode": {
    "name": "ipython",
    "version": 3
   },
   "file_extension": ".py",
   "mimetype": "text/x-python",
   "name": "python",
   "nbconvert_exporter": "python",
   "pygments_lexer": "ipython3",
   "version": "3.11.3"
  }
 },
 "nbformat": 4,
 "nbformat_minor": 5
}
