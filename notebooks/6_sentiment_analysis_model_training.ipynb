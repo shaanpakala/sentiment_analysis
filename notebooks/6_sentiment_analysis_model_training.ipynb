{
 "cells": [
  {
   "cell_type": "code",
   "execution_count": 1,
   "id": "05af0900",
   "metadata": {},
   "outputs": [],
   "source": [
    "rf = True\n",
    "xt = False\n",
    "gb = False\n",
    "neural_net = False"
   ]
  },
  {
   "cell_type": "code",
   "execution_count": 2,
   "id": "f4099e62",
   "metadata": {},
   "outputs": [],
   "source": [
    "import numpy as np\n",
    "import pandas as pd\n",
    "import matplotlib.pyplot as plt\n",
    "from sklearn import metrics\n",
    "from sklearn.model_selection import train_test_split\n",
    "\n",
    "# from sklearn.utils.multiclass import unique_labels\n",
    "if (rf): from sklearn.ensemble import RandomForestClassifier\n",
    "elif (xt): from sklearn.ensemble import ExtraTreesClassifier\n",
    "elif (gb): from sklearn.ensemble import GradientBoostingClassifier\n",
    "elif (neural_net): \n",
    "    from torch import nn\n",
    "    from torch.optim import Adam\n",
    "    from torch.utils.data import DataLoader\n",
    "\n",
    "# from sklearn.neural_network import MLPClassifier\n",
    "\n",
    "import joblib\n",
    "\n",
    "import torch\n",
    "import time\n",
    "import random"
   ]
  },
  {
   "cell_type": "code",
   "execution_count": 3,
   "id": "c292bbf0",
   "metadata": {},
   "outputs": [],
   "source": [
    "%run '00_tools.ipynb'"
   ]
  },
  {
   "cell_type": "code",
   "execution_count": 4,
   "id": "74bbf977",
   "metadata": {},
   "outputs": [],
   "source": [
    "train_np = np.load(f'{train_vect_path}updated_train_df.npy')"
   ]
  },
  {
   "cell_type": "code",
   "execution_count": 5,
   "id": "b2c342ed",
   "metadata": {},
   "outputs": [],
   "source": [
    "X = train_np[:, 2:]\n",
    "Y = train_np[:, 0]\n",
    "\n",
    "X = np.array(X)\n",
    "Y = np.array(Y).astype(float)"
   ]
  },
  {
   "cell_type": "code",
   "execution_count": 6,
   "id": "eca7ad76",
   "metadata": {},
   "outputs": [],
   "source": [
    "torchX = torch.tensor(X, dtype=torch.float32)\n",
    "torchY = torch.tensor(Y, dtype=torch.float32)\n",
    "\n",
    "x_train, x_test, y_train, y_test = train_test_split(torchX, torchY, test_size=0.2, random_state=12345)"
   ]
  },
  {
   "cell_type": "markdown",
   "id": "3194fc99",
   "metadata": {},
   "source": [
    "### Random Forest Classifier"
   ]
  },
  {
   "cell_type": "code",
   "execution_count": 7,
   "id": "e3ff1d6b",
   "metadata": {},
   "outputs": [],
   "source": [
    "load = True\n",
    "save = False"
   ]
  },
  {
   "cell_type": "code",
   "execution_count": 8,
   "id": "d7962dc4",
   "metadata": {},
   "outputs": [
    {
     "name": "stdout",
     "output_type": "stream",
     "text": [
      "Overall Accuracy is 98.43%\n"
     ]
    }
   ],
   "source": [
    "if (rf):\n",
    "    if (not load):\n",
    "\n",
    "        start_time = time.time()\n",
    "\n",
    "        rf_classifier = RandomForestClassifier(n_estimators=100, random_state=12345)\n",
    "        rf_classifier.fit(x_train, y_train)\n",
    "\n",
    "        end_time = time.time()\n",
    "        t = end_time - start_time\n",
    "\n",
    "        print(f'RF Overall Accuracy is {str(rf_classifier.score(x_test, y_test)*100)[:5]}% | Train Time {str(t)[:6]}')\n",
    "\n",
    "        if (save): joblib.dump(rf_classifier, f'{saved_model_path}rf_sentiment.joblib')\n",
    "\n",
    "    else:\n",
    "\n",
    "        rf_classifier = joblib.load(f'{saved_model_path}rf_sentiment.joblib')\n",
    "        print(f'Overall Accuracy is {str(rf_classifier.score(x_test, y_test)*100)[:5]}%')"
   ]
  },
  {
   "cell_type": "code",
   "execution_count": 9,
   "id": "f6668cf3",
   "metadata": {
    "scrolled": false
   },
   "outputs": [
    {
     "name": "stdout",
     "output_type": "stream",
     "text": [
      "[[2951   13   41]\n",
      " [   0 2489    6]\n",
      " [  21   63 3588]]\n"
     ]
    },
    {
     "data": {
      "image/png": "[encoded data removed]",
      "text/plain": [
       "<Figure size 640x480 with 1 Axes>"
      ]
     },
     "metadata": {},
     "output_type": "display_data"
    }
   ],
   "source": [
    "if (rf):\n",
    "\n",
    "    test_preds = rf_classifier.predict(x_test).round()\n",
    "\n",
    "    confusion_matrix = metrics.confusion_matrix(y_test.detach().numpy(), test_preds)\n",
    "\n",
    "    print(confusion_matrix)\n",
    "\n",
    "    cm_percent = confusion_matrix.astype('float') / confusion_matrix.sum(axis=1)[:, np.newaxis] * 100\n",
    "\n",
    "    cm_display = metrics.ConfusionMatrixDisplay(confusion_matrix = cm_percent)\n",
    "\n",
    "    cm_display.plot(cmap=plt.cm.Greys, values_format=\".3g\", colorbar=False)\n",
    "\n",
    "    labels = ['Negative', 'Neutral', 'Positive']\n",
    "    plt.xticks(np.arange(len(labels)), labels)\n",
    "    plt.yticks(np.arange(len(labels)), labels)\n",
    "    \n",
    "    plt.xlabel('Predicted Sentiment')\n",
    "    plt.ylabel('True Sentiment')\n",
    "    \n",
    "    plt.title('RF Sentiment Classifier (percents)')\n",
    "    plt.show()"
   ]
  },
  {
   "cell_type": "markdown",
   "id": "d1de1cda",
   "metadata": {},
   "source": [
    "### Extra Trees Classifier"
   ]
  },
  {
   "cell_type": "code",
   "execution_count": 10,
   "id": "42676e16",
   "metadata": {},
   "outputs": [],
   "source": [
    "if (xt):\n",
    "    start = time.time()\n",
    "                                        # parameters\n",
    "    xt_classifier = ExtraTreesClassifier(n_estimators=50, max_depth=20, random_state=12345)\n",
    "    xt_classifier.fit(x_train, y_train)\n",
    "    end = time.time()\n",
    "\n",
    "    traintime = (str(end - start)[:5])\n",
    "    score = xt_classifier.score(x_test, y_test)\n",
    "\n",
    "    print(f'Overall Accuracy is {score}% | Train Time {traintime}.')"
   ]
  },
  {
   "cell_type": "code",
   "execution_count": 11,
   "id": "dd1ac3a1",
   "metadata": {},
   "outputs": [],
   "source": [
    "if (xt):\n",
    "    test_preds = xt_classifier.predict(x_test).round()\n",
    "\n",
    "    confusion_matrix = metrics.confusion_matrix(y_test.detach().numpy(), test_preds)\n",
    "\n",
    "    cm_percent = confusion_matrix.astype('float') / confusion_matrix.sum(axis=1)[:, np.newaxis] * 100\n",
    "\n",
    "    cm_display = metrics.ConfusionMatrixDisplay(confusion_matrix = cm_percent)\n",
    "\n",
    "    cm_display.plot()\n",
    "\n",
    "    plt.title('XT Classifier Confusion Matrix')\n",
    "    plt.show()"
   ]
  },
  {
   "cell_type": "markdown",
   "id": "31c1519e",
   "metadata": {},
   "source": [
    "### Gradient Boosting"
   ]
  },
  {
   "cell_type": "code",
   "execution_count": 13,
   "id": "76706df1",
   "metadata": {},
   "outputs": [],
   "source": [
    "if (gb):\n",
    "    start = time.time()\n",
    "    gb_clf = GradientBoostingClassifier(n_estimators=50, max_depth=8, random_state=12345)\n",
    "    gb_clf.fit(x_train, y_train)\n",
    "    end = time.time()\n",
    "    print(f'Overall Accuracy {gb_clf.score(x_test, y_test)}% | Train Time {end - start}.')"
   ]
  }
 ],
 "metadata": {
  "kernelspec": {
   "display_name": "Python 3 (ipykernel)",
   "language": "python",
   "name": "python3"
  },
  "language_info": {
   "codemirror_mode": {
    "name": "ipython",
    "version": 3
   },
   "file_extension": ".py",
   "mimetype": "text/x-python",
   "name": "python",
   "nbconvert_exporter": "python",
   "pygments_lexer": "ipython3",
   "version": "3.11.3"
  }
 },
 "nbformat": 4,
 "nbformat_minor": 5
}
