{
 "cells": [
  {
   "cell_type": "code",
   "execution_count": 1,
   "id": "819097dd",
   "metadata": {},
   "outputs": [],
   "source": [
    "import numpy as np\n",
    "import pandas as pd\n",
    "import matplotlib.pyplot as plt\n",
    "\n",
    "from sklearn.ensemble import (\n",
    "    ExtraTreesRegressor, GradientBoostingRegressor, RandomForestClassifier\n",
    ")\n",
    "\n",
    "from sklearn.neural_network import MLPClassifier\n",
    "\n",
    "import joblib\n",
    "\n",
    "import os\n",
    "\n",
    "import torch\n",
    "from torch import nn"
   ]
  },
  {
   "cell_type": "code",
   "execution_count": 2,
   "id": "23ff43b8",
   "metadata": {},
   "outputs": [],
   "source": [
    "save = True"
   ]
  },
  {
   "cell_type": "code",
   "execution_count": 3,
   "id": "9c8a65a8",
   "metadata": {},
   "outputs": [],
   "source": [
    "%run '0_tools.ipynb'"
   ]
  },
  {
   "cell_type": "code",
   "execution_count": 4,
   "id": "d1d6b7db",
   "metadata": {},
   "outputs": [],
   "source": [
    "word_dict = list(np.load(f'{train_vect_path}updated_word_dict.npy'))"
   ]
  },
  {
   "cell_type": "markdown",
   "id": "5f40dc84",
   "metadata": {},
   "source": [
    "### Which Classifier to Load"
   ]
  },
  {
   "cell_type": "code",
   "execution_count": 5,
   "id": "ee636b1f",
   "metadata": {},
   "outputs": [],
   "source": [
    "classifier = joblib.load(f'{saved_model_path}random_forest_3_classifier.joblib')"
   ]
  },
  {
   "cell_type": "code",
   "execution_count": 6,
   "id": "0eaccba4",
   "metadata": {},
   "outputs": [],
   "source": [
    "f = open(f'{desktop_path}CS_STUFF/Python/NLP/Political_Sentiment_Analysis/cnn.txt', encoding=\"utf8\")\n",
    "articles = f.read().split('     \\n')\n",
    "f.close()"
   ]
  },
  {
   "cell_type": "code",
   "execution_count": 7,
   "id": "79512fa0",
   "metadata": {
    "scrolled": true
   },
   "outputs": [
    {
     "name": "stdout",
     "output_type": "stream",
     "text": [
      "829\n"
     ]
    }
   ],
   "source": [
    "print(len(articles))"
   ]
  },
  {
   "cell_type": "code",
   "execution_count": 55,
   "id": "b9c4e1d1",
   "metadata": {},
   "outputs": [],
   "source": [
    "sentence = 'Why does my dog hate me. I love him with all my heart but he still bites me all the time.'"
   ]
  },
  {
   "cell_type": "code",
   "execution_count": 56,
   "id": "ffa88791",
   "metadata": {},
   "outputs": [
    {
     "name": "stdout",
     "output_type": "stream",
     "text": [
      "Why does my dog hate me. I love him with all my heart but he still bites me all the time.\n",
      "Predicted negative sentiment.\n"
     ]
    }
   ],
   "source": [
    "print(sentence)\n",
    "print(f'Predicted {sentiment(sentence, word_dict)} sentiment.')"
   ]
  }
 ],
 "metadata": {
  "kernelspec": {
   "display_name": "Python 3 (ipykernel)",
   "language": "python",
   "name": "python3"
  },
  "language_info": {
   "codemirror_mode": {
    "name": "ipython",
    "version": 3
   },
   "file_extension": ".py",
   "mimetype": "text/x-python",
   "name": "python",
   "nbconvert_exporter": "python",
   "pygments_lexer": "ipython3",
   "version": "3.11.3"
  }
 },
 "nbformat": 4,
 "nbformat_minor": 5
}
