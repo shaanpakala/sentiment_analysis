{
 "cells": [
  {
   "cell_type": "code",
   "execution_count": 1,
   "id": "819097dd",
   "metadata": {},
   "outputs": [],
   "source": [
    "import numpy as np\n",
    "import pandas as pd\n",
    "import matplotlib.pyplot as plt\n",
    "\n",
    "from sklearn.ensemble import (\n",
    "    ExtraTreesRegressor, GradientBoostingRegressor, RandomForestClassifier\n",
    ")\n",
    "\n",
    "from sklearn.neural_network import MLPClassifier\n",
    "\n",
    "import joblib\n",
    "\n",
    "import os\n",
    "\n",
    "import torch\n",
    "from torch import nn"
   ]
  },
  {
   "cell_type": "code",
   "execution_count": 2,
   "id": "23ff43b8",
   "metadata": {},
   "outputs": [],
   "source": [
    "save = True"
   ]
  },
  {
   "cell_type": "code",
   "execution_count": 52,
   "id": "9c8a65a8",
   "metadata": {},
   "outputs": [],
   "source": [
    "%run '0_tools.ipynb'"
   ]
  },
  {
   "cell_type": "code",
   "execution_count": 53,
   "id": "d1d6b7db",
   "metadata": {},
   "outputs": [],
   "source": [
    "word_dict = list(np.load(f'{train_vect_path}updated_word_dict.npy'))"
   ]
  },
  {
   "cell_type": "markdown",
   "id": "5f40dc84",
   "metadata": {},
   "source": [
    "### Which Classifier to Load"
   ]
  },
  {
   "cell_type": "code",
   "execution_count": 54,
   "id": "ee636b1f",
   "metadata": {},
   "outputs": [],
   "source": [
    "classifier = joblib.load(f'{saved_model_path}rf_sentiment.joblib')"
   ]
  },
  {
   "cell_type": "code",
   "execution_count": 73,
   "id": "b9c4e1d1",
   "metadata": {},
   "outputs": [],
   "source": [
    "sentence = \"If you not bad I would like you.\""
   ]
  },
  {
   "cell_type": "code",
   "execution_count": 74,
   "id": "ffa88791",
   "metadata": {},
   "outputs": [
    {
     "name": "stdout",
     "output_type": "stream",
     "text": [
      "If you not bad I would like you.\n",
      "\n",
      "Predicted negative sentiment.\n"
     ]
    }
   ],
   "source": [
    "print(sentence)\n",
    "print(f'\\nPredicted {sentiment(sentence, classifier, word_dict)} sentiment.')"
   ]
  },
  {
   "cell_type": "code",
   "execution_count": null,
   "id": "c1d87b9a",
   "metadata": {},
   "outputs": [],
   "source": []
  }
 ],
 "metadata": {
  "kernelspec": {
   "display_name": "Python 3 (ipykernel)",
   "language": "python",
   "name": "python3"
  },
  "language_info": {
   "codemirror_mode": {
    "name": "ipython",
    "version": 3
   },
   "file_extension": ".py",
   "mimetype": "text/x-python",
   "name": "python",
   "nbconvert_exporter": "python",
   "pygments_lexer": "ipython3",
   "version": "3.11.3"
  }
 },
 "nbformat": 4,
 "nbformat_minor": 5
}
