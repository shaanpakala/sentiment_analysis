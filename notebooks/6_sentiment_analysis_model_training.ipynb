{
 "cells": [
  {
   "cell_type": "code",
   "execution_count": 1,
   "id": "f4099e62",
   "metadata": {},
   "outputs": [],
   "source": [
    "import numpy as np\n",
    "import pandas as pd\n",
    "import matplotlib.pyplot as plt\n",
    "from sklearn import metrics\n",
    "from sklearn.utils.multiclass import unique_labels\n",
    "\n",
    "from sklearn.ensemble import (\n",
    "    RandomForestClassifier, GradientBoostingClassifier, ExtraTreesClassifier\n",
    ")\n",
    "from sklearn.neural_network import MLPClassifier\n",
    "\n",
    "import joblib\n",
    "\n",
    "import torch\n",
    "from torch import nn\n",
    "\n",
    "from sklearn.model_selection import train_test_split\n",
    "from torch.optim import Adam\n",
    "from torch.utils.data import DataLoader\n",
    "\n",
    "import time\n",
    "import random"
   ]
  },
  {
   "cell_type": "code",
   "execution_count": 2,
   "id": "c292bbf0",
   "metadata": {},
   "outputs": [],
   "source": [
    "%run '0_tools.ipynb'"
   ]
  },
  {
   "cell_type": "code",
   "execution_count": 3,
   "id": "74bbf977",
   "metadata": {},
   "outputs": [],
   "source": [
    "train_np = np.load(f'{train_vect_path}updated_train_df.npy')"
   ]
  },
  {
   "cell_type": "code",
   "execution_count": 4,
   "id": "b2c342ed",
   "metadata": {},
   "outputs": [],
   "source": [
    "X = train_np[:, 2:]\n",
    "Y = train_np[:, 0]\n",
    "\n",
    "X = np.array(X)\n",
    "Y = np.array(Y).astype(float)"
   ]
  },
  {
   "cell_type": "code",
   "execution_count": 5,
   "id": "eca7ad76",
   "metadata": {},
   "outputs": [],
   "source": [
    "torchX = torch.tensor(X, dtype=torch.float32)\n",
    "torchY = torch.tensor(Y, dtype=torch.float32)\n",
    "\n",
    "x_train, x_test, y_train, y_test = train_test_split(torchX, torchY, test_size=0.2, random_state=12345)"
   ]
  },
  {
   "cell_type": "code",
   "execution_count": 9,
   "id": "4238b4a2",
   "metadata": {},
   "outputs": [],
   "source": [
    "# start_col = 450\n",
    "# pd.DataFrame(x_test).loc[:, start_col:start_col+19].head(20)"
   ]
  },
  {
   "cell_type": "markdown",
   "id": "3194fc99",
   "metadata": {},
   "source": [
    "### Random Forest Classifier"
   ]
  },
  {
   "cell_type": "code",
   "execution_count": 8,
   "id": "e3ff1d6b",
   "metadata": {},
   "outputs": [],
   "source": [
    "load = True\n",
    "save = False"
   ]
  },
  {
   "cell_type": "code",
   "execution_count": 9,
   "id": "05af0900",
   "metadata": {},
   "outputs": [],
   "source": [
    "rf = True\n",
    "xt = False\n",
    "gb = False"
   ]
  },
  {
   "cell_type": "code",
   "execution_count": 10,
   "id": "d7962dc4",
   "metadata": {},
   "outputs": [
    {
     "name": "stdout",
     "output_type": "stream",
     "text": [
      "Overall Accuracy is 94.34%\n"
     ]
    }
   ],
   "source": [
    "if (rf):\n",
    "    if (not load):\n",
    "\n",
    "        start_time = time.time()\n",
    "\n",
    "        rf_classifier = RandomForestClassifier(n_estimators=100, random_state=12345)\n",
    "        rf_classifier.fit(x_train, y_train)\n",
    "\n",
    "        end_time = time.time()\n",
    "        t = end_time - start_time\n",
    "\n",
    "        print(f'RF Overall Accuracy is {str(rf_classifier.score(x_test, y_test)*100)[:5]}% | Train Time {str(t)[:6]}')\n",
    "\n",
    "        if (save): joblib.dump(rf_classifier, f'{saved_model_path}random_forest_3_classifier.joblib')\n",
    "\n",
    "    else:\n",
    "\n",
    "        rf_classifier = joblib.load(f'{saved_model_path}random_forest_3_classifier.joblib')\n",
    "        print(f'Overall Accuracy is {str(rf_classifier.score(x_test, y_test)*100)[:5]}%')"
   ]
  },
  {
   "cell_type": "code",
   "execution_count": 11,
   "id": "f6668cf3",
   "metadata": {
    "scrolled": false
   },
   "outputs": [
    {
     "name": "stdout",
     "output_type": "stream",
     "text": [
      "[[2792   58   93]\n",
      " [  30 1682   10]\n",
      " [ 152   99 2902]]\n"
     ]
    },
    {
     "data": {
      "image/png": "[encoded data removed]",
      "text/plain": [
       "<Figure size 640x480 with 2 Axes>"
      ]
     },
     "metadata": {},
     "output_type": "display_data"
    }
   ],
   "source": [
    "if (rf):\n",
    "\n",
    "    test_preds = rf_classifier.predict(x_test).round()\n",
    "\n",
    "    confusion_matrix = metrics.confusion_matrix(y_test.detach().numpy(), test_preds)\n",
    "    \n",
    "    print(confusion_matrix)\n",
    "    \n",
    "    cm_percent = confusion_matrix.astype('float') / confusion_matrix.sum(axis=1)[:, np.newaxis] * 100\n",
    "\n",
    "    cm_display = metrics.ConfusionMatrixDisplay(confusion_matrix = cm_percent)\n",
    "\n",
    "    cm_display.plot()\n",
    "\n",
    "    plt.title('RF Classifier Confusion Matrix')\n",
    "    plt.show()"
   ]
  },
  {
   "cell_type": "markdown",
   "id": "d1de1cda",
   "metadata": {},
   "source": [
    "### Extra Trees Classifier"
   ]
  },
  {
   "cell_type": "code",
   "execution_count": 14,
   "id": "42676e16",
   "metadata": {},
   "outputs": [],
   "source": [
    "if (xt):\n",
    "    start = time.time()\n",
    "                                        # parameters\n",
    "    xt_classifier = ExtraTreesClassifier(n_estimators=50, max_depth=20, random_state=12345)\n",
    "    xt_classifier.fit(x_train, y_train)\n",
    "    end = time.time()\n",
    "\n",
    "    traintime = (str(end - start)[:5])\n",
    "    score = xt_classifier.score(x_test, y_test)\n",
    "\n",
    "    print(f'Overall Accuracy is {score}% | Train Time {traintime}.')"
   ]
  },
  {
   "cell_type": "code",
   "execution_count": 15,
   "id": "dd1ac3a1",
   "metadata": {},
   "outputs": [],
   "source": [
    "if (xt):\n",
    "    test_preds = xt_classifier.predict(x_test).round()\n",
    "\n",
    "    confusion_matrix = metrics.confusion_matrix(y_test.detach().numpy(), test_preds)\n",
    "\n",
    "    cm_percent = confusion_matrix.astype('float') / confusion_matrix.sum(axis=1)[:, np.newaxis] * 100\n",
    "\n",
    "    cm_display = metrics.ConfusionMatrixDisplay(confusion_matrix = cm_percent)\n",
    "\n",
    "    cm_display.plot()\n",
    "\n",
    "    plt.title('XT Classifier Confusion Matrix')\n",
    "    plt.show()"
   ]
  },
  {
   "cell_type": "markdown",
   "id": "31c1519e",
   "metadata": {},
   "source": [
    "### Gradient Boosting"
   ]
  },
  {
   "cell_type": "code",
   "execution_count": null,
   "id": "76706df1",
   "metadata": {},
   "outputs": [],
   "source": [
    "start = time.time()\n",
    "gb_clf = GradientBoostingClassifier(n_estimators=50, max_depth=8, random_state=12345)\n",
    "gb_clf.fit(x_train, y_train)\n",
    "end = time.time()\n",
    "print(f'Overall Accuracy {gb_clf.score(x_test, y_test)}% | Train Time {end - start}.')"
   ]
  },
  {
   "cell_type": "markdown",
   "id": "a7dec4a5",
   "metadata": {},
   "source": [
    "### Neural Network"
   ]
  },
  {
   "cell_type": "code",
   "execution_count": 14,
   "id": "9f11f888",
   "metadata": {},
   "outputs": [],
   "source": [
    "class NN_Sentiment_Analysis(nn.Module):\n",
    "    def __init__(self, input_dim):\n",
    "        super(NN_Sentiment_Analysis, self).__init__()\n",
    "        \n",
    "        self.model = nn.Sequential(\n",
    "            \n",
    "            nn.Linear(input_dim, int(input_dim/2)),\n",
    "            nn.ReLU(),\n",
    "            \n",
    "            nn.Linear(int(input_dim/2), int(input_dim/4)),\n",
    "            nn.ReLU(),\n",
    "            \n",
    "            nn.Linear(int(input_dim/4), int(input_dim/8)),\n",
    "#             nn.ReLU(),\n",
    "            \n",
    "#             nn.Linear(int(input_dim/8), int(input_dim/16)),\n",
    "#             nn.ReLU(),\n",
    "            \n",
    "            nn.Dropout(p=0.1),\n",
    "            \n",
    "            nn.Linear(int(input_dim/8), 5),\n",
    "            \n",
    "            nn.Linear(5, 1)\n",
    "        \n",
    "        )\n",
    "        \n",
    "    def forward(self, x):\n",
    "                \n",
    "        return self.model(x)"
   ]
  },
  {
   "cell_type": "code",
   "execution_count": 15,
   "id": "2b5203ff",
   "metadata": {},
   "outputs": [],
   "source": [
    "#create instance of CNN Image Classifier\n",
    "classify = NN_Sentiment_Analysis(X.shape[1]).to('cpu')\n",
    "\n",
    "#optimizer, lr = learning rate\n",
    "opt = Adam(classify.parameters(), lr=1e-3)\n",
    "\n",
    "# total loss function\n",
    "loss_fn = nn.MSELoss()"
   ]
  },
  {
   "cell_type": "code",
   "execution_count": 16,
   "id": "c83e2118",
   "metadata": {
    "scrolled": false
   },
   "outputs": [
    {
     "data": {
      "text/plain": [
       "torch.Size([7036, 1])"
      ]
     },
     "execution_count": 16,
     "metadata": {},
     "output_type": "execute_result"
    }
   ],
   "source": [
    "classify(x_test).shape"
   ]
  },
  {
   "cell_type": "code",
   "execution_count": 17,
   "id": "e386ab21",
   "metadata": {},
   "outputs": [],
   "source": [
    "num_epochs = 10"
   ]
  },
  {
   "cell_type": "code",
   "execution_count": 18,
   "id": "23898172",
   "metadata": {},
   "outputs": [],
   "source": [
    "train_time = True\n",
    "updateModel = False"
   ]
  },
  {
   "cell_type": "code",
   "execution_count": null,
   "id": "0ecd77e6",
   "metadata": {},
   "outputs": [],
   "source": [
    "# Training flow\n",
    "if (train_time):\n",
    "    \n",
    "    train = []\n",
    "    for i in range(len(x_train)):\n",
    "        train.append((x_train[i], y_train[i]))\n",
    "        \n",
    "    trainloader = DataLoader(train, 256)\n",
    "\n",
    "    for epoch in range(1, num_epochs+1):\n",
    "        \n",
    "        epoch_start_time = time.time()\n",
    "        \n",
    "        for batch in trainloader:\n",
    "            \n",
    "            x,y = batch \n",
    "            x, y = x.to('cpu'), y.to('cpu') \n",
    "            yhat = classify(x).squeeze()\n",
    "            \n",
    "#             print(yhat)\n",
    "#             print(y)\n",
    "\n",
    "            loss = loss_fn(yhat, y)\n",
    "    \n",
    "#             print(loss)\n",
    "                                \n",
    "            #backpropogation\n",
    "            opt.zero_grad()\n",
    "            loss.backward()\n",
    "            opt.step()\n",
    "            \n",
    "        epoch_preds = classify(x_test).round()\n",
    "        \n",
    "        correct = 0\n",
    "        total = 0\n",
    "        for pred_i in range(len(epoch_preds)):\n",
    "            if (epoch_preds[pred_i] == y_test[total]): correct+=1\n",
    "            total+=1\n",
    "            \n",
    "        accuracy = (correct/total)\n",
    "        \n",
    "        epoch_end_time = time.time()\n",
    "        \n",
    "        # print loss for every so many epochs\n",
    "        if (epoch%1==0):\n",
    "            print(f\"Epoch {epoch} | Loss {loss.item()} | Test Accuracy {str(accuracy*100)[:5]}%\", end = ' ') \n",
    "            print(f\"| {str(epoch_end_time-epoch_start_time)[:5]} seconds\")"
   ]
  },
  {
   "cell_type": "code",
   "execution_count": 124,
   "id": "ba1847f7",
   "metadata": {},
   "outputs": [
    {
     "name": "stdout",
     "output_type": "stream",
     "text": [
      "Test Accuracy: 37.672% | 327/868\n"
     ]
    }
   ],
   "source": [
    "correct=0\n",
    "total=0\n",
    "\n",
    "# predictions\n",
    "predictions = classify(x_test).round()\n",
    "\n",
    "# make predictions higher than 5 just 5, lower than 1 just 1\n",
    "# also calculating accuracy\n",
    "for pred_index in range(len(predictions)):\n",
    "    pred = predictions[pred_index]\n",
    "\n",
    "    while (pred > 5): \n",
    "        predictions[pred_index]-=1\n",
    "        pred = predictions[pred_index]\n",
    "        \n",
    "    while (pred < 1): \n",
    "        predictions[pred_index]+=1\n",
    "        pred = predictions[pred_index]\n",
    "        \n",
    "    pred = predictions[pred_index]\n",
    "#     print(int(pred))\n",
    "    \n",
    "    if (pred == y_test[total]): correct+=1\n",
    "    total+=1\n",
    "    \n",
    "print(f'Test Accuracy: {str((correct/total)*100)[:6]}% | {correct}/{total}')"
   ]
  },
  {
   "cell_type": "code",
   "execution_count": 125,
   "id": "482b5d56",
   "metadata": {},
   "outputs": [
    {
     "data": {
      "text/plain": [
       "Text(0.5, 1.0, 'Distribution of Test Set True Ratings')"
      ]
     },
     "execution_count": 125,
     "metadata": {},
     "output_type": "execute_result"
    },
    {
     "data": {
      "image/png": "[encoded data removed]",
      "text/plain": [
       "<Figure size 640x480 with 1 Axes>"
      ]
     },
     "metadata": {},
     "output_type": "display_data"
    }
   ],
   "source": [
    "np_y = np.array(y_test)\n",
    "df_y = pd.DataFrame(np_y)\n",
    "df_y.plot.hist()\n",
    "plt.title('Distribution of Test Set True Ratings')"
   ]
  },
  {
   "cell_type": "code",
   "execution_count": 126,
   "id": "e719c9c1",
   "metadata": {},
   "outputs": [
    {
     "data": {
      "image/png": "[encoded data removed]",
      "text/plain": [
       "<Figure size 640x480 with 2 Axes>"
      ]
     },
     "metadata": {},
     "output_type": "display_data"
    }
   ],
   "source": [
    "confusion_matrix = metrics.confusion_matrix(y_test.detach().numpy(), predictions.detach().numpy())\n",
    "\n",
    "cm_percent = confusion_matrix.astype('float') / confusion_matrix.sum(axis=1)[:, np.newaxis] * 100\n",
    "\n",
    "cm_display = metrics.ConfusionMatrixDisplay(confusion_matrix = cm_percent)\n",
    "\n",
    "cm_display.plot()\n",
    "# classes = unique_labels(y_test, predictions.detach().numpy())\n",
    "\n",
    "plt.show()"
   ]
  },
  {
   "cell_type": "code",
   "execution_count": 48,
   "id": "329bbd44",
   "metadata": {},
   "outputs": [],
   "source": [
    "# confusion_matrix"
   ]
  },
  {
   "cell_type": "code",
   "execution_count": null,
   "id": "2c9bce3e",
   "metadata": {},
   "outputs": [],
   "source": []
  }
 ],
 "metadata": {
  "kernelspec": {
   "display_name": "Python 3 (ipykernel)",
   "language": "python",
   "name": "python3"
  },
  "language_info": {
   "codemirror_mode": {
    "name": "ipython",
    "version": 3
   },
   "file_extension": ".py",
   "mimetype": "text/x-python",
   "name": "python",
   "nbconvert_exporter": "python",
   "pygments_lexer": "ipython3",
   "version": "3.11.3"
  }
 },
 "nbformat": 4,
 "nbformat_minor": 5
}
