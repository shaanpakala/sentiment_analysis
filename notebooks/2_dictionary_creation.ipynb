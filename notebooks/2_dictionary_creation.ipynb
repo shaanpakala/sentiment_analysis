{
 "cells": [
  {
   "cell_type": "code",
   "execution_count": 70,
   "id": "dbbd8af6",
   "metadata": {},
   "outputs": [],
   "source": [
    "from nltk.tokenize import word_tokenize\n",
    "import numpy as np\n",
    "import random"
   ]
  },
  {
   "cell_type": "code",
   "execution_count": 99,
   "id": "b9caa469",
   "metadata": {},
   "outputs": [],
   "source": [
    "%run '0_tools.ipynb'"
   ]
  },
  {
   "cell_type": "code",
   "execution_count": 103,
   "id": "e745b731",
   "metadata": {},
   "outputs": [],
   "source": [
    "text = getFileText()"
   ]
  },
  {
   "cell_type": "code",
   "execution_count": 104,
   "id": "2b8e5437",
   "metadata": {},
   "outputs": [
    {
     "name": "stdout",
     "output_type": "stream",
     "text": [
      "76036\n"
     ]
    }
   ],
   "source": [
    "print(len(text))"
   ]
  },
  {
   "cell_type": "code",
   "execution_count": 92,
   "id": "ea9f564c",
   "metadata": {},
   "outputs": [],
   "source": [
    "uniqueWords = set()\n",
    "for text_num in range(len(text)):\n",
    "    review_rating = text[text_num].split('\\n - \\n')\n",
    "\n",
    "    try:\n",
    "        rating = review_rating[0]\n",
    "        review = review_rating[1]\n",
    "        \n",
    "    except:\n",
    "        continue\n",
    "\n",
    "    for i in review.split():\n",
    "        try:\n",
    "            word = trimWord(i).lower()\n",
    "        except:\n",
    "            continue\n",
    "        if (word in stopWords): continue\n",
    "        randomchar = False\n",
    "        for c in randomchars: \n",
    "            if (word.find(c) != -1): randomchar = True\n",
    "\n",
    "        if (randomchar): continue\n",
    "        \n",
    "        if (not hasVowel(word)): continue\n",
    "\n",
    "        uniqueWords.add(word)\n",
    "        \n",
    "uniqueWords = np.array(list(uniqueWords))"
   ]
  },
  {
   "cell_type": "code",
   "execution_count": 94,
   "id": "3003d0bf",
   "metadata": {},
   "outputs": [
    {
     "name": "stdout",
     "output_type": "stream",
     "text": [
      "(62808,)\n"
     ]
    }
   ],
   "source": [
    "print(uniqueWords.shape)"
   ]
  },
  {
   "cell_type": "code",
   "execution_count": 95,
   "id": "a6c23d53",
   "metadata": {},
   "outputs": [],
   "source": [
    "np.save(f'{train_vect_path}word_dict.npy', uniqueWords)"
   ]
  },
  {
   "cell_type": "code",
   "execution_count": null,
   "id": "f1b54b1b",
   "metadata": {},
   "outputs": [],
   "source": []
  }
 ],
 "metadata": {
  "kernelspec": {
   "display_name": "Python 3 (ipykernel)",
   "language": "python",
   "name": "python3"
  },
  "language_info": {
   "codemirror_mode": {
    "name": "ipython",
    "version": 3
   },
   "file_extension": ".py",
   "mimetype": "text/x-python",
   "name": "python",
   "nbconvert_exporter": "python",
   "pygments_lexer": "ipython3",
   "version": "3.11.3"
  }
 },
 "nbformat": 4,
 "nbformat_minor": 5
}
