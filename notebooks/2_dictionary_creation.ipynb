{
 "cells": [
  {
   "cell_type": "code",
   "execution_count": 1,
   "id": "dbbd8af6",
   "metadata": {},
   "outputs": [],
   "source": [
    "from nltk.tokenize import word_tokenize\n",
    "import numpy as np\n",
    "import random"
   ]
  },
  {
   "cell_type": "code",
   "execution_count": 2,
   "id": "b9caa469",
   "metadata": {},
   "outputs": [],
   "source": [
    "%run '0_tools.ipynb'"
   ]
  },
  {
   "cell_type": "code",
   "execution_count": 3,
   "id": "e745b731",
   "metadata": {},
   "outputs": [],
   "source": [
    "text = getFileText()"
   ]
  },
  {
   "cell_type": "code",
   "execution_count": 4,
   "id": "2b8e5437",
   "metadata": {
    "scrolled": true
   },
   "outputs": [
    {
     "name": "stdout",
     "output_type": "stream",
     "text": [
      "76036\n"
     ]
    }
   ],
   "source": [
    "print(len(text))"
   ]
  },
  {
   "cell_type": "code",
   "execution_count": 5,
   "id": "ea9f564c",
   "metadata": {},
   "outputs": [],
   "source": [
    "uniqueWords = set()\n",
    "for text_num in range(len(text)):\n",
    "    review_rating = text[text_num].split('\\n - \\n')\n",
    "\n",
    "    try:\n",
    "        rating = review_rating[0]\n",
    "        review = review_rating[1]\n",
    "        \n",
    "    except:\n",
    "        continue\n",
    "\n",
    "    words = review.split()\n",
    "    reviewLen = len(words)\n",
    "    \n",
    "    for i in range(reviewLen):\n",
    "        try: word = trimWord(words[i]).lower()\n",
    "        except: continue\n",
    "            \n",
    "        if (not goodWord(word)): continue\n",
    "            \n",
    "        if (word in negContractions): word = 'not'\n",
    "            \n",
    "        if (word == 'not'): \n",
    "            try: \n",
    "                nextWord = trimWord(words[i+1]).lower()\n",
    "                if (not goodWord(nextWord)): continue\n",
    "                word = (f'{word}_{nextWord}')\n",
    "                \n",
    "            except: continue\n",
    "                \n",
    "        elif (word in adverbs): \n",
    "            try: \n",
    "                nextWord = trimWord(words[i+1]).lower()\n",
    "                if (not goodWord(nextWord)): continue\n",
    "                word = (f'{word}_{nextWord}')\n",
    "                \n",
    "            except: continue\n",
    "                \n",
    "        uniqueWords.add(word)\n",
    "        \n",
    "uniqueWords = np.array(list(uniqueWords))"
   ]
  },
  {
   "cell_type": "code",
   "execution_count": 6,
   "id": "3003d0bf",
   "metadata": {},
   "outputs": [
    {
     "name": "stdout",
     "output_type": "stream",
     "text": [
      "(67379,)\n"
     ]
    }
   ],
   "source": [
    "print(uniqueWords.shape)"
   ]
  },
  {
   "cell_type": "code",
   "execution_count": 19,
   "id": "e27e57c9",
   "metadata": {},
   "outputs": [
    {
     "name": "stdout",
     "output_type": "stream",
     "text": [
      "3156 'not' phrases.\n"
     ]
    }
   ],
   "source": [
    "nots=0\n",
    "for i in uniqueWords:\n",
    "    if ((i.find('not')!=-1)and(i.find(\"_\")!=-1)): \n",
    "#         print(i)\n",
    "        nots+=1\n",
    "\n",
    "print(f\"{nots} 'not' phrases.\")"
   ]
  },
  {
   "cell_type": "code",
   "execution_count": 16,
   "id": "916f4424",
   "metadata": {},
   "outputs": [],
   "source": [
    "ads = 0\n",
    "for i in uniqueWords:\n",
    "    for ad in adverbs:\n",
    "        if ((i.find(ad)!=-1)and(i.find(\"_\")!=-1)):\n",
    "#             print(i)\n",
    "            ads+=1\n",
    "            break"
   ]
  },
  {
   "cell_type": "code",
   "execution_count": 17,
   "id": "2cddf0d5",
   "metadata": {},
   "outputs": [
    {
     "name": "stdout",
     "output_type": "stream",
     "text": [
      "2563 adverb phrases.\n"
     ]
    }
   ],
   "source": [
    "print(f'{ads} adverb phrases.')"
   ]
  },
  {
   "cell_type": "code",
   "execution_count": 10,
   "id": "f0cd5723",
   "metadata": {},
   "outputs": [
    {
     "name": "stdout",
     "output_type": "stream",
     "text": [
      "['not_harmed' 'not_rely' 'issme' 'menggunakan' 'aske' 'lynching'\n",
      " 'betrothal' 'gusts' 'ssa' 'raids' 'traumatized' 'pacifism' 'kabobs'\n",
      " 'evidence' 'skimp' 'rationalization' 'jolla' 'mnerga' 'cerelac' 'viewwhy'\n",
      " 'magathreads' 'denounce' 'finances' 'not_meter' 'trumptweet' 'lingual'\n",
      " 'legitimising' 'really_active' 'pumber' 'spoilers' 'riffi' 'unmasked'\n",
      " 'pmofull' 'during' 'openly' 'ragpicker' 'capitalists' 'not_book'\n",
      " 'soundcard' 'pretended' 'goons' 'disneyland' 'wating' 'karz' 'seclusion'\n",
      " 'mandatory' 'socializing' 'unfathomable' 'diggi' 'not_paper']\n"
     ]
    }
   ],
   "source": [
    "index = -251\n",
    "print(uniqueWords[index:index+50])"
   ]
  },
  {
   "cell_type": "code",
   "execution_count": 20,
   "id": "a6c23d53",
   "metadata": {},
   "outputs": [],
   "source": [
    "np.save(f'{train_vect_path}word_dict.npy', uniqueWords)"
   ]
  },
  {
   "cell_type": "code",
   "execution_count": null,
   "id": "f1b54b1b",
   "metadata": {},
   "outputs": [],
   "source": []
  }
 ],
 "metadata": {
  "kernelspec": {
   "display_name": "Python 3 (ipykernel)",
   "language": "python",
   "name": "python3"
  },
  "language_info": {
   "codemirror_mode": {
    "name": "ipython",
    "version": 3
   },
   "file_extension": ".py",
   "mimetype": "text/x-python",
   "name": "python",
   "nbconvert_exporter": "python",
   "pygments_lexer": "ipython3",
   "version": "3.11.3"
  }
 },
 "nbformat": 4,
 "nbformat_minor": 5
}
